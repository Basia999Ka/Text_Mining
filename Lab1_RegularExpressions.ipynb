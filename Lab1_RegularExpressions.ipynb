{
 "cells": [
  {
   "cell_type": "markdown",
   "metadata": {},
   "source": [
    "## Wprowadzenie\n",
    "\n",
    "Wyrażenia regularne (ang. *regular expressions*, Regex) to specjalne wzorce, które pozwalają na wyszukiwanie, dopasowywanie i manipulowanie tekstem. Są one niezwykle przydatne przy pracy z danymi tekstowymi.\n",
    "\n",
    "W Pythonie możemy korzystać z wyrażeń regularnych za pomocą modułu `re`.\n",
    "\n",
    "### Importowanie modułu `re`\n"
   ]
  },
  {
   "cell_type": "code",
   "execution_count": 1,
   "metadata": {},
   "outputs": [],
   "source": [
    "\n",
    "import re"
   ]
  },
  {
   "cell_type": "markdown",
   "metadata": {},
   "source": [
    "\n",
    "## Podstawowe funkcjonalności wyrażeń regularnych\n",
    "\n",
    "### Dopasowanie prostego wzorca\n",
    "\n",
    "Metoda `re.match()` sprawdza, czy ciąg znaków zaczyna się od wzorca.\n"
   ]
  },
  {
   "cell_type": "code",
   "execution_count": 3,
   "metadata": {},
   "outputs": [
    {
     "name": "stdout",
     "output_type": "stream",
     "text": [
      "Znaleziono dopasowanie: Python\n"
     ]
    }
   ],
   "source": [
    "\n",
    "tekst = \"Python jest świetny!\"\n",
    "dopasowanie = re.match(r\"Python\", tekst)\n",
    "\n",
    "if dopasowanie:\n",
    "    print(\"Znaleziono dopasowanie:\", dopasowanie.group())\n",
    "else:\n",
    "    print(\"Nie znaleziono dopasowania.\")\n"
   ]
  },
  {
   "cell_type": "markdown",
   "metadata": {},
   "source": [
    "\n",
    "### Wyszukiwanie wzorca w tekście\n",
    "\n",
    "Metoda `re.search()` przeszukuje cały ciąg znaków w poszukiwaniu dopasowania.\n"
   ]
  },
  {
   "cell_type": "code",
   "execution_count": 4,
   "metadata": {},
   "outputs": [
    {
     "name": "stdout",
     "output_type": "stream",
     "text": [
      "Znaleziono dopasowanie: Python\n"
     ]
    }
   ],
   "source": [
    "\n",
    "tekst = \"Lubię programować w Pythonie\"\n",
    "dopasowanie = re.search(r\"Python\", tekst)\n",
    "\n",
    "if dopasowanie:\n",
    "    print(\"Znaleziono dopasowanie:\", dopasowanie.group())\n",
    "else:\n",
    "    print(\"Nie znaleziono dopasowania.\")"
   ]
  },
  {
   "cell_type": "markdown",
   "metadata": {},
   "source": [
    "\n",
    "### Znajdowanie wszystkich wystąpień wzorca\n",
    "\n",
    "Metoda `re.findall()` zwraca wszystkie wystąpienia wzorca w tekście.\n"
   ]
  },
  {
   "cell_type": "code",
   "execution_count": 5,
   "metadata": {},
   "outputs": [
    {
     "name": "stdout",
     "output_type": "stream",
     "text": [
      "Znalezione dopasowania: ['Python', 'Python']\n"
     ]
    }
   ],
   "source": [
    "\n",
    "tekst = \"Python to język programowania. W Pythonie można pisać skrypty.\"\n",
    "wszystkie_dopasowania = re.findall(r\"Python\", tekst)\n",
    "\n",
    "print(\"Znalezione dopasowania:\", wszystkie_dopasowania)\n"
   ]
  },
  {
   "cell_type": "markdown",
   "metadata": {},
   "source": [
    "\n",
    "### Zamiana wzorca na inny tekst\n",
    "\n",
    "Metoda `re.sub()` służy do zamiany wzorca na inny ciąg znaków.\n"
   ]
  },
  {
   "cell_type": "code",
   "execution_count": 6,
   "metadata": {},
   "outputs": [
    {
     "name": "stdout",
     "output_type": "stream",
     "text": [
      "Tekst po zamianie: Język Java jest prosty.\n"
     ]
    }
   ],
   "source": [
    "\n",
    "tekst = \"Język Python jest prosty.\"\n",
    "nowy_tekst = re.sub(r\"Python\", \"Java\", tekst)\n",
    "\n",
    "print(\"Tekst po zamianie:\", nowy_tekst)"
   ]
  },
  {
   "cell_type": "markdown",
   "metadata": {},
   "source": [
    "\n",
    "## Znaczenie niektórych znaków specjalnych\n",
    "\n",
    "Wyrażenia regularne korzystają ze znaków specjalnych, które mają specjalne znaczenie:\n",
    "\n",
    "- `.` - Dowolny znak (poza nową linią).\n",
    "- `^` - Początek ciągu.\n",
    "- `$` - Koniec ciągu.\n",
    "- `*` - Zero lub więcej wystąpień poprzedniego znaku.\n",
    "- `+` - Jedno lub więcej wystąpień poprzedniego znaku.\n",
    "- `[]` - Dowolny znak z podanego zakresu.\n",
    "- `|` - Operator \"lub\".\n",
    "- `()` - Grupowanie wyrażeń.\n",
    "\n",
    "### Przykład z grupowaniem\n"
   ]
  },
  {
   "cell_type": "code",
   "execution_count": 7,
   "metadata": {},
   "outputs": [
    {
     "name": "stdout",
     "output_type": "stream",
     "text": [
      "Rok: 2024\n",
      "Miesiąc: 10\n",
      "Dzień: 02\n"
     ]
    }
   ],
   "source": [
    "\n",
    "tekst = \"2024-10-02\"\n",
    "wzorzec = r\"(\\d{4})-(\\d{2})-(\\d{2})\"\n",
    "dopasowanie = re.match(wzorzec, tekst)\n",
    "\n",
    "if dopasowanie:\n",
    "    print(\"Rok:\", dopasowanie.group(1))\n",
    "    print(\"Miesiąc:\", dopasowanie.group(2))\n",
    "    print(\"Dzień:\", dopasowanie.group(3))\n"
   ]
  },
  {
   "cell_type": "markdown",
   "metadata": {},
   "source": [
    "\n",
    "## Zadania \n",
    "\n",
    "1. **Zadanie 1**: Znajdź wszystkie adresy e-mail w  tekście\n",
    "2. **Zadanie 2**: W tekście zamień wszystkie liczby na słowo \"[LICZBA]\"\n",
    "3. **Zadanie 3**: Sprawdź, czy podany numer telefonu jest w formacie XXX-XXX-XXX (gdzie X to cyfra)\n",
    "4. **Zadanie 4**: Wyszukaj wszystkie słowa, które zaczynają się od litery \"P\" w  tekście\n",
    "5. **Zadanie 5**: Podziel tekst na części, oddzielając go po znakach interpunkcyjnych\n",
    "\n"
   ]
  },
  {
   "cell_type": "markdown",
   "metadata": {},
   "source": [
    "### Barbara Kania grupa 1\n"
   ]
  },
  {
   "cell_type": "markdown",
   "metadata": {},
   "source": [
    "1. **Zadanie 1**: Znajdź wszystkie adresy e-mail w  tekście"
   ]
  },
  {
   "cell_type": "code",
   "execution_count": 6,
   "metadata": {},
   "outputs": [
    {
     "name": "stdout",
     "output_type": "stream",
     "text": [
      "Znalezione dopasowania: ['jan.kowalski@gmail.com', 'drugimail@gamil.com']\n"
     ]
    }
   ],
   "source": [
    "tekst = \"Adresy email: jan.kowalski@gmail.com. oraz  drugimail@gamil.com\"\n",
    "wzor= r'[a-zA-Z0-9._%+-]+@[a-zA-Z0-9.-]+\\.[a-zA-Z]{2,}'\n",
    "dopasowania = re.findall(wzor, tekst)\n",
    "print(\"Znalezione dopasowania:\", dopasowania)"
   ]
  },
  {
   "cell_type": "markdown",
   "metadata": {},
   "source": [
    "2. **Zadanie 2**: W tekście zamień wszystkie liczby na słowo \"[LICZBA]\""
   ]
  },
  {
   "cell_type": "code",
   "execution_count": 7,
   "metadata": {},
   "outputs": [
    {
     "name": "stdout",
     "output_type": "stream",
     "text": [
      "Tekst po zamianie: a konferencji w [LICZBA] roku zaprezentowano [LICZBA] nowych technologii. Zgłosiło się [LICZBA] uczestników, a budżet wynosił [LICZBA].[LICZBA] miliona dolarów. Najdłuższy wykład trwał [LICZBA] minut, a średnia ocena wyniosła [LICZBA].[LICZBA] na [LICZBA].\n"
     ]
    }
   ],
   "source": [
    "tekst = \"a konferencji w 2023 roku zaprezentowano 25 nowych technologii. Zgłosiło się 1234 uczestników, a budżet wynosił 1.5 miliona dolarów. Najdłuższy wykład trwał 45 minut, a średnia ocena wyniosła 4.7 na 5.\"\n",
    "wzor = r'\\d+'\n",
    "nowy_tekst = re.sub(wzor, \"[LICZBA]\", tekst)\n",
    "print(\"Tekst po zamianie:\", nowy_tekst)"
   ]
  },
  {
   "cell_type": "markdown",
   "metadata": {},
   "source": [
    "3. **Zadanie 3**: Sprawdź, czy podany numer telefonu jest w formacie XXX-XXX-XXX (gdzie X to cyfra)\n"
   ]
  },
  {
   "cell_type": "code",
   "execution_count": 8,
   "metadata": {},
   "outputs": [
    {
     "name": "stdout",
     "output_type": "stream",
     "text": [
      "Numer telefonu 123-456-789 jest w poprawnym formacie.\n"
     ]
    }
   ],
   "source": [
    "\n",
    "numer_telefonu = \"123-456-789\"\n",
    "wzor = r'^\\d{3}-\\d{3}-\\d{3}$'\n",
    "if re.match(wzor, numer_telefonu):\n",
    "    print(f\"Numer telefonu {numer_telefonu} jest w poprawnym formacie.\")\n",
    "else:\n",
    "    print(f\"Numer telefonu {numer_telefonu} nie jest w poprawnym formacie.\")"
   ]
  },
  {
   "cell_type": "markdown",
   "metadata": {},
   "source": [
    "4. **Zadanie 4**: Wyszukaj wszystkie słowa, które zaczynają się od litery \"P\" w  tekście\n"
   ]
  },
  {
   "cell_type": "code",
   "execution_count": 9,
   "metadata": {},
   "outputs": [
    {
     "name": "stdout",
     "output_type": "stream",
     "text": [
      "Słowa zaczynające się na P : ['Python', 'Programowanie', 'Pythonie', 'Python']\n"
     ]
    }
   ],
   "source": [
    "tekst = \"Python, Programowanie w Pythonie, tekst tekst tekst Python\"\n",
    "wzor = r'\\bP\\w*'\n",
    "dopasowania = re.findall(wzor, tekst)\n",
    "\n",
    "if dopasowania:\n",
    "    print(\"Słowa zaczynające się na P :\", dopasowania)\n",
    "else:\n",
    "    print(\"Nie znaleziono słów zaczynających się na P.\")"
   ]
  },
  {
   "cell_type": "markdown",
   "metadata": {},
   "source": [
    "5. **Zadanie 5**: Podziel tekst na części, oddzielając go po znakach interpunkcyjnych\n"
   ]
  },
  {
   "cell_type": "code",
   "execution_count": 11,
   "metadata": {},
   "outputs": [
    {
     "name": "stdout",
     "output_type": "stream",
     "text": [
      "Podzielony tekst: ['Wczoraj było słonecznie', 'dziś pada deszcz', 'a jutro zapowiadają burze']\n"
     ]
    }
   ],
   "source": [
    "tekst = \"Wczoraj było słonecznie; dziś pada deszcz, a jutro zapowiadają burze.\"\n",
    "wzor = r'[,;.!?]'\n",
    "czesci = re.split(wzor, tekst)\n",
    "czesci = [czesc.strip() for czesc in czesci if czesc.strip()]\n",
    "print(\"Podzielony tekst:\", czesci)\n"
   ]
  }
 ],
 "metadata": {
  "kernelspec": {
   "display_name": "Python 3",
   "language": "python",
   "name": "python3"
  },
  "language_info": {
   "codemirror_mode": {
    "name": "ipython",
    "version": 3
   },
   "file_extension": ".py",
   "mimetype": "text/x-python",
   "name": "python",
   "nbconvert_exporter": "python",
   "pygments_lexer": "ipython3",
   "version": "3.10.11"
  }
 },
 "nbformat": 4,
 "nbformat_minor": 2
}
